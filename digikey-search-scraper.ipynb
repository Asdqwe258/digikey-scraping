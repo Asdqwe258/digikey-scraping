{
 "cells": [
  {
   "cell_type": "code",
   "execution_count": 1,
   "metadata": {},
   "outputs": [],
   "source": [
    "import requests\n",
    "from bs4 import BeautifulSoup as soup\n",
    "from requests_html import AsyncHTMLSession\n",
    "import pandas as pd"
   ]
  },
  {
   "cell_type": "code",
   "execution_count": 2,
   "metadata": {},
   "outputs": [],
   "source": [
    "header = {'User-Agent':'Mozilla/5.0 (Windows NT 10.0; WOW64) AppleWebKit/537.36 (KHTML, like Gecko) Chrome/83.0.4103.61 Safari/537.36'}\n"
   ]
  },
  {
   "cell_type": "code",
   "execution_count": 3,
   "metadata": {},
   "outputs": [],
   "source": [
    "html = requests.get('https://www.digikey.com/en/products/filter/embedded-microprocessors/694?s=N4IgTCBcDaIMYFMA2CBOB7AdiAugXyA',headers=header)\n"
   ]
  },
  {
   "cell_type": "code",
   "execution_count": 4,
   "metadata": {},
   "outputs": [
    {
     "data": {
      "text/plain": [
       "200"
      ]
     },
     "execution_count": 4,
     "metadata": {},
     "output_type": "execute_result"
    }
   ],
   "source": [
    "html.status_code\n"
   ]
  },
  {
   "cell_type": "code",
   "execution_count": 5,
   "metadata": {},
   "outputs": [],
   "source": [
    "cookies = html.cookies"
   ]
  },
  {
   "cell_type": "code",
   "execution_count": 6,
   "metadata": {},
   "outputs": [],
   "source": [
    "bsobj = soup(html.content, \"html.parser\")"
   ]
  },
  {
   "cell_type": "code",
   "execution_count": 7,
   "metadata": {},
   "outputs": [
    {
     "data": {
      "text/plain": [
       "<button class=\"MuiButtonBase-root MuiIconButton-root jss23 jss325\" data-testid=\"btn-next-page\" tabindex=\"0\" title=\"Next Page\" type=\"button\"><span class=\"MuiIconButton-label\"><svg aria-hidden=\"true\" class=\"MuiSvgIcon-root\" focusable=\"false\" viewbox=\"0 0 24 24\"><path d=\"M10 6L8.59 7.41 13.17 12l-4.58 4.59L10 18l6-6z\"></path></svg></span></button>"
      ]
     },
     "execution_count": 7,
     "metadata": {},
     "output_type": "execute_result"
    }
   ],
   "source": [
    "next = bsobj.find(title='Next Page')\n",
    "next"
   ]
  },
  {
   "cell_type": "code",
   "execution_count": 8,
   "metadata": {},
   "outputs": [
    {
     "data": {
      "text/plain": [
       "['/en/products/detail/rochester-electronics-llc/RH80532NC056256/12605923',\n",
       " '/en/products/detail/rochester-electronics-llc/KC80524KX366128/12112059',\n",
       " '/en/products/detail/rochester-electronics-llc/KC80526LY400128/12111799',\n",
       " '/en/products/detail/rochester-electronics-llc/UM80536UC600512/12133380',\n",
       " '/en/products/detail/rochester-electronics-llc/UM80536UC800512/12592132',\n",
       " '/en/products/detail/rochester-electronics-llc/NK80530MZ866256/12123500',\n",
       " '/en/products/detail/rochester-electronics-llc/NK80530VZ800256/12124068',\n",
       " '/en/products/detail/rochester-electronics-llc/NK80530MZ733256/12133904',\n",
       " '/en/products/detail/rochester-electronics-llc/RK80546KF1001M/12125248',\n",
       " '/en/products/detail/rochester-electronics-llc/RJ80535VC6000/12600722',\n",
       " '/en/products/detail/rochester-electronics-llc/RH80536GE051MS-L7VB/12130515',\n",
       " '/en/products/detail/rochester-electronics-llc/RK80546KG1122MMS/12125750',\n",
       " '/en/products/detail/rochester-electronics-llc/NK80530VZ733256/12134308',\n",
       " '/en/products/detail/rochester-electronics-llc/RH80554RC021512/12600761',\n",
       " '/en/products/detail/rochester-electronics-llc/NK80530KZ800512/12118856',\n",
       " '/en/products/detail/rochester-electronics-llc/RJ80535VC600512/12592246',\n",
       " '/en/products/detail/rochester-electronics-llc/RB80526RX566128/12612712',\n",
       " '/en/products/detail/rochester-electronics-llc/KC80526LY400256/12598039',\n",
       " '/en/products/detail/rochester-electronics-llc/RH80532NC009256/12136064',\n",
       " '/en/products/detail/rochester-electronics-llc/NK80530VY400256/12618096',\n",
       " '/en/products/detail/rochester-electronics-llc/LE80554LC0172M/12606618',\n",
       " '/en/products/detail/rochester-electronics-llc/RH80554RC009512/12600827',\n",
       " '/en/products/detail/rochester-electronics-llc/NK80530VY650256/12612952',\n",
       " '/en/products/detail/rochester-electronics-llc/LE80554NC009512/12603565',\n",
       " '/en/products/detail/rochester-electronics-llc/LE80554NC021512/12607467']"
      ]
     },
     "execution_count": 8,
     "metadata": {},
     "output_type": "execute_result"
    }
   ],
   "source": [
    "productlist = bsobj.findAll('tr',{'class':'MuiTableRow-root'})\n",
    "productlist[2].text\n",
    "links = []\n",
    "for i in range(2,len(productlist)):\n",
    "    links.append(productlist[i].find_all('a')[1].get('href'))\n",
    "links"
   ]
  },
  {
   "cell_type": "code",
   "execution_count": 9,
   "metadata": {},
   "outputs": [
    {
     "name": "stdout",
     "output_type": "stream",
     "text": [
      "https://www.digikey.com/en/products/detail/rochester-electronics-llc/RH80532NC056256/12605923\n",
      "https://www.digikey.com/en/products/detail/rochester-electronics-llc/KC80524KX366128/12112059\n",
      "https://www.digikey.com/en/products/detail/rochester-electronics-llc/KC80526LY400128/12111799\n",
      "https://www.digikey.com/en/products/detail/rochester-electronics-llc/UM80536UC600512/12133380\n",
      "https://www.digikey.com/en/products/detail/rochester-electronics-llc/UM80536UC800512/12592132\n",
      "https://www.digikey.com/en/products/detail/rochester-electronics-llc/NK80530MZ866256/12123500\n",
      "https://www.digikey.com/en/products/detail/rochester-electronics-llc/NK80530VZ800256/12124068\n",
      "https://www.digikey.com/en/products/detail/rochester-electronics-llc/NK80530MZ733256/12133904\n",
      "https://www.digikey.com/en/products/detail/rochester-electronics-llc/RK80546KF1001M/12125248\n",
      "https://www.digikey.com/en/products/detail/rochester-electronics-llc/RJ80535VC6000/12600722\n",
      "https://www.digikey.com/en/products/detail/rochester-electronics-llc/RH80536GE051MS-L7VB/12130515\n",
      "https://www.digikey.com/en/products/detail/rochester-electronics-llc/RK80546KG1122MMS/12125750\n",
      "https://www.digikey.com/en/products/detail/rochester-electronics-llc/NK80530VZ733256/12134308\n",
      "https://www.digikey.com/en/products/detail/rochester-electronics-llc/RH80554RC021512/12600761\n",
      "https://www.digikey.com/en/products/detail/rochester-electronics-llc/NK80530KZ800512/12118856\n",
      "https://www.digikey.com/en/products/detail/rochester-electronics-llc/RJ80535VC600512/12592246\n",
      "https://www.digikey.com/en/products/detail/rochester-electronics-llc/RB80526RX566128/12612712\n",
      "https://www.digikey.com/en/products/detail/rochester-electronics-llc/KC80526LY400256/12598039\n",
      "https://www.digikey.com/en/products/detail/rochester-electronics-llc/RH80532NC009256/12136064\n",
      "https://www.digikey.com/en/products/detail/rochester-electronics-llc/NK80530VY400256/12618096\n",
      "https://www.digikey.com/en/products/detail/rochester-electronics-llc/LE80554LC0172M/12606618\n",
      "https://www.digikey.com/en/products/detail/rochester-electronics-llc/RH80554RC009512/12600827\n",
      "https://www.digikey.com/en/products/detail/rochester-electronics-llc/NK80530VY650256/12612952\n",
      "https://www.digikey.com/en/products/detail/rochester-electronics-llc/LE80554NC009512/12603565\n",
      "https://www.digikey.com/en/products/detail/rochester-electronics-llc/LE80554NC021512/12607467\n"
     ]
    }
   ],
   "source": [
    "asession = AsyncHTMLSession()\n",
    "r = await asession.get('https://www.digikey.com')\n",
    "for f in links:\n",
    "    r = await asession.get('https://www.digikey.com' + f)\n",
    "    print('https://www.digikey.com' + f)"
   ]
  },
  {
   "cell_type": "code",
   "execution_count": 10,
   "metadata": {},
   "outputs": [],
   "source": [
    "df = pd.DataFrame(columns=['Product Id','In Stock','Rating','Shipping Time','Shipping Location'])"
   ]
  },
  {
   "cell_type": "code",
   "execution_count": 11,
   "metadata": {},
   "outputs": [
    {
     "name": "stdout",
     "output_type": "stream",
     "text": [
      "{'Product Id': '2156-RH80532NC056256-ND', 'In Stock': '1,080 Available To Order', 'Shipping Time': '10 days', 'Shipping Location': 'Rochester Electronics LLC'}\n",
      "{'Product Id': '2156-NK80530MZ866256-ND', 'In Stock': '897 Available To Order', 'Shipping Time': '10 days', 'Shipping Location': 'Rochester Electronics LLC'}\n",
      "{'Product Id': '2156-RH80554RC021512-ND', 'In Stock': '10,802 Available To Order', 'Shipping Time': '10 days', 'Shipping Location': 'Rochester Electronics LLC'}\n",
      "{'Product Id': '2156-RJ80535VC600512-ND', 'In Stock': '10,044 Available To Order', 'Shipping Time': '10 days', 'Shipping Location': 'Rochester Electronics LLC'}\n"
     ]
    }
   ],
   "source": [
    "for f in links:\n",
    "    \n",
    "    \n",
    "    temp = {}\n",
    "    r = await asession.get('https://www.digikey.com' + f)\n",
    "    await r.html.arender()\n",
    "    if r.html.find('div[ref_page_event=\"Link to Supplier Shipper\"]'):\n",
    "        h1 = r.html.find('tbody.MuiTableBody-root')\n",
    "        temp['Product Id'] = h1[0].text.split('\\n')[1]\n",
    "        stock = r.html.find('div[data-testid = price-and-procure-title]')\n",
    "        temp['In Stock'] = stock[0].text\n",
    "\n",
    "\n",
    "        if (stock[0].text[0] != '0'):\n",
    "            rating_count = r.html.find('div[ref_page_event=\"Link to Supplier Shipper\"]')\n",
    "            shipping = rating_count[0].text.replace('Will ship in approximately ','').split('from')\n",
    "            temp['Shipping Time'] = shipping[0].strip()\n",
    "            temp['Shipping Location'] = shipping[1].strip()\n",
    "        else:\n",
    "            temp['Shipping Time'] = 'err: no items in stock'\n",
    "            temp['Shipping Location'] = 'err: no items in stock'\n",
    "        print(temp)\n",
    "        df = df.append(temp, ignore_index=True)\n"
   ]
  },
  {
   "cell_type": "code",
   "execution_count": 12,
   "metadata": {},
   "outputs": [
    {
     "data": {
      "text/html": [
       "<div>\n",
       "<style scoped>\n",
       "    .dataframe tbody tr th:only-of-type {\n",
       "        vertical-align: middle;\n",
       "    }\n",
       "\n",
       "    .dataframe tbody tr th {\n",
       "        vertical-align: top;\n",
       "    }\n",
       "\n",
       "    .dataframe thead th {\n",
       "        text-align: right;\n",
       "    }\n",
       "</style>\n",
       "<table border=\"1\" class=\"dataframe\">\n",
       "  <thead>\n",
       "    <tr style=\"text-align: right;\">\n",
       "      <th></th>\n",
       "      <th>Product Id</th>\n",
       "      <th>In Stock</th>\n",
       "      <th>Rating</th>\n",
       "      <th>Shipping Time</th>\n",
       "      <th>Shipping Location</th>\n",
       "    </tr>\n",
       "  </thead>\n",
       "  <tbody>\n",
       "    <tr>\n",
       "      <th>0</th>\n",
       "      <td>2156-RH80532NC056256-ND</td>\n",
       "      <td>1,080 Available To Order</td>\n",
       "      <td>NaN</td>\n",
       "      <td>10 days</td>\n",
       "      <td>Rochester Electronics LLC</td>\n",
       "    </tr>\n",
       "    <tr>\n",
       "      <th>1</th>\n",
       "      <td>2156-NK80530MZ866256-ND</td>\n",
       "      <td>897 Available To Order</td>\n",
       "      <td>NaN</td>\n",
       "      <td>10 days</td>\n",
       "      <td>Rochester Electronics LLC</td>\n",
       "    </tr>\n",
       "    <tr>\n",
       "      <th>2</th>\n",
       "      <td>2156-RH80554RC021512-ND</td>\n",
       "      <td>10,802 Available To Order</td>\n",
       "      <td>NaN</td>\n",
       "      <td>10 days</td>\n",
       "      <td>Rochester Electronics LLC</td>\n",
       "    </tr>\n",
       "    <tr>\n",
       "      <th>3</th>\n",
       "      <td>2156-RJ80535VC600512-ND</td>\n",
       "      <td>10,044 Available To Order</td>\n",
       "      <td>NaN</td>\n",
       "      <td>10 days</td>\n",
       "      <td>Rochester Electronics LLC</td>\n",
       "    </tr>\n",
       "  </tbody>\n",
       "</table>\n",
       "</div>"
      ],
      "text/plain": [
       "                Product Id                   In Stock Rating Shipping Time  \\\n",
       "0  2156-RH80532NC056256-ND   1,080 Available To Order    NaN       10 days   \n",
       "1  2156-NK80530MZ866256-ND     897 Available To Order    NaN       10 days   \n",
       "2  2156-RH80554RC021512-ND  10,802 Available To Order    NaN       10 days   \n",
       "3  2156-RJ80535VC600512-ND  10,044 Available To Order    NaN       10 days   \n",
       "\n",
       "           Shipping Location  \n",
       "0  Rochester Electronics LLC  \n",
       "1  Rochester Electronics LLC  \n",
       "2  Rochester Electronics LLC  \n",
       "3  Rochester Electronics LLC  "
      ]
     },
     "metadata": {},
     "output_type": "display_data"
    }
   ],
   "source": [
    "display(df)"
   ]
  }
 ],
 "metadata": {
  "kernelspec": {
   "display_name": "Python 3.8.5 ('base')",
   "language": "python",
   "name": "python3"
  },
  "language_info": {
   "codemirror_mode": {
    "name": "ipython",
    "version": 3
   },
   "file_extension": ".py",
   "mimetype": "text/x-python",
   "name": "python",
   "nbconvert_exporter": "python",
   "pygments_lexer": "ipython3",
   "version": "3.8.5"
  },
  "orig_nbformat": 4,
  "vscode": {
   "interpreter": {
    "hash": "3736618c75c9c9f30c52be798f07bc89545d6a6ff0cf35601cfdbc407dce5c1f"
   }
  }
 },
 "nbformat": 4,
 "nbformat_minor": 2
}
