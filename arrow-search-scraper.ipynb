{
 "cells": [
  {
   "cell_type": "code",
   "execution_count": 15,
   "metadata": {},
   "outputs": [],
   "source": [
    "import requests\n",
    "from bs4 import BeautifulSoup as soup\n",
    "from requests_html import AsyncHTMLSession\n",
    "import pandas as pd\n",
    "import time"
   ]
  },
  {
   "cell_type": "code",
   "execution_count": 16,
   "metadata": {},
   "outputs": [],
   "source": [
    "header = {'User-Agent':'Mozilla/5.0 (Macintosh; Intel Mac OS X 12_5) AppleWebKit/537.36 (KHTML, like Gecko) Chrome/104.0.0.0 Safari/537.36'}\n"
   ]
  },
  {
   "cell_type": "code",
   "execution_count": 17,
   "metadata": {},
   "outputs": [
    {
     "name": "stdout",
     "output_type": "stream",
     "text": [
      "https://www.arrow.com/en/products/search?subcat=Microcontrollers%20and%20Processors-sep-Processors&q=processor\n"
     ]
    }
   ],
   "source": [
    "url = 'https://www.arrow.com/en/products/search?subcat=Microcontrollers%20and%20Processors-sep-Processors&q=processor'.format()\n",
    "print(url)"
   ]
  },
  {
   "cell_type": "code",
   "execution_count": 18,
   "metadata": {},
   "outputs": [],
   "source": [
    "html = requests.get(url,headers=header)\n"
   ]
  },
  {
   "cell_type": "code",
   "execution_count": 19,
   "metadata": {},
   "outputs": [
    {
     "data": {
      "text/plain": [
       "200"
      ]
     },
     "execution_count": 19,
     "metadata": {},
     "output_type": "execute_result"
    }
   ],
   "source": [
    "html.status_code\n"
   ]
  },
  {
   "cell_type": "code",
   "execution_count": 20,
   "metadata": {},
   "outputs": [],
   "source": [
    "cookies = html.cookies"
   ]
  },
  {
   "cell_type": "code",
   "execution_count": 21,
   "metadata": {},
   "outputs": [],
   "source": [
    "bsobj = soup(html.content, \"html.parser\")"
   ]
  },
  {
   "cell_type": "code",
   "execution_count": null,
   "metadata": {},
   "outputs": [],
   "source": []
  },
  {
   "cell_type": "markdown",
   "metadata": {},
   "source": [
    "I put sleeps here in order to not stress the website as much"
   ]
  },
  {
   "cell_type": "code",
   "execution_count": 22,
   "metadata": {},
   "outputs": [
    {
     "name": "stdout",
     "output_type": "stream",
     "text": [
      "2\n",
      "3\n",
      "4\n"
     ]
    },
    {
     "data": {
      "text/plain": [
       "['/en/products/ov00798-u96g-2c/omnivision-technologies',\n",
       " '/en/products/fms6141s5x/on-semiconductor',\n",
       " '/en/products/fms6141csx/on-semiconductor',\n",
       " '/en/products/fms6143csx/on-semiconductor',\n",
       " '/en/products/gs2962-ibe3/semtech',\n",
       " '/en/products/gs2971aibe3/semtech',\n",
       " '/en/products/zl38063ldg1/microchip-technology',\n",
       " '/en/products/lc823455xatbg/on-semiconductor',\n",
       " '/en/products/tda7430/stmicroelectronics',\n",
       " '/en/products/njw1200v-te1/nisshinbo-micro-devices-inc',\n",
       " '/en/products/sta020djtr/stmicroelectronics',\n",
       " '/en/products/njw1173v-te1/nisshinbo-micro-devices-inc',\n",
       " '/en/products/ad1940ystz/analog-devices',\n",
       " '/en/products/tda7418tr/stmicroelectronics',\n",
       " '/en/products/tas3204pagr/texas-instruments',\n",
       " '/en/products/tas5508bpag/texas-instruments',\n",
       " '/en/products/sta333w13tr/stmicroelectronics',\n",
       " '/en/products/tas3103adbt/texas-instruments',\n",
       " '/en/products/zl38052ldg1/microchip-technology',\n",
       " '/en/products/njm2706ve1-te1/nisshinbo-micro-devices-inc',\n",
       " '/en/products/nju7391av-te1/nisshinbo-micro-devices-inc',\n",
       " '/en/products/tda7303/stmicroelectronics']"
      ]
     },
     "execution_count": 22,
     "metadata": {},
     "output_type": "execute_result"
    }
   ],
   "source": [
    "links = []\n",
    "page = 2\n",
    "while(page < 5):\n",
    "    print(page)\n",
    "    productlist = bsobj.findAll('tr',{'class':'SearchResults-resultRow SearchResults-productRow'})\n",
    "\n",
    "    for i in range(2,len(productlist)):\n",
    "        links.append(productlist[i].find_all('a')[0].get('href'))\n",
    "    page += 1\n",
    "    html = requests.get('https://www.arrow.com/en/products/search?page='+ str(page) + '&q=processor&subcat=Microcontrollers%20and%20Processors-sep-Processors'.format(),headers=header)\n",
    "    bsobj = soup(html.content, \"html.parser\")\n",
    "    time.sleep(4)\n",
    "    print(links)\n",
    "links"
   ]
  },
  {
   "cell_type": "code",
   "execution_count": 23,
   "metadata": {},
   "outputs": [
    {
     "name": "stdout",
     "output_type": "stream",
     "text": [
      "https://www.arrow.com/en/products/ov00798-u96g-2c/omnivision-technologies\n",
      "https://www.arrow.com/en/products/fms6141s5x/on-semiconductor\n",
      "https://www.arrow.com/en/products/fms6141csx/on-semiconductor\n",
      "https://www.arrow.com/en/products/fms6143csx/on-semiconductor\n",
      "https://www.arrow.com/en/products/gs2962-ibe3/semtech\n",
      "https://www.arrow.com/en/products/gs2971aibe3/semtech\n",
      "https://www.arrow.com/en/products/zl38063ldg1/microchip-technology\n",
      "https://www.arrow.com/en/products/lc823455xatbg/on-semiconductor\n",
      "https://www.arrow.com/en/products/tda7430/stmicroelectronics\n",
      "https://www.arrow.com/en/products/njw1200v-te1/nisshinbo-micro-devices-inc\n",
      "https://www.arrow.com/en/products/sta020djtr/stmicroelectronics\n",
      "https://www.arrow.com/en/products/njw1173v-te1/nisshinbo-micro-devices-inc\n",
      "https://www.arrow.com/en/products/ad1940ystz/analog-devices\n",
      "https://www.arrow.com/en/products/tda7418tr/stmicroelectronics\n",
      "https://www.arrow.com/en/products/tas3204pagr/texas-instruments\n",
      "https://www.arrow.com/en/products/tas5508bpag/texas-instruments\n",
      "https://www.arrow.com/en/products/sta333w13tr/stmicroelectronics\n",
      "https://www.arrow.com/en/products/tas3103adbt/texas-instruments\n",
      "https://www.arrow.com/en/products/zl38052ldg1/microchip-technology\n",
      "https://www.arrow.com/en/products/njm2706ve1-te1/nisshinbo-micro-devices-inc\n",
      "https://www.arrow.com/en/products/nju7391av-te1/nisshinbo-micro-devices-inc\n",
      "https://www.arrow.com/en/products/tda7303/stmicroelectronics\n"
     ]
    }
   ],
   "source": [
    "for f in links:\n",
    "    \n",
    "    print('https://www.arrow.com' + f)"
   ]
  },
  {
   "cell_type": "code",
   "execution_count": 24,
   "metadata": {},
   "outputs": [],
   "source": [
    "df = pd.DataFrame(columns=['Product Id','In Stock','Price','Ships From'])"
   ]
  },
  {
   "cell_type": "code",
   "execution_count": 25,
   "metadata": {},
   "outputs": [
    {
     "name": "stdout",
     "output_type": "stream",
     "text": [
      "https://www.arrow.com/en/products/ov00798-u96g-2c/omnivision-technologies\n",
      "{'Product Id': 'OV00798-U96G-2C', 'In Stock': '502', 'Price': '$9.14', 'Ships From': 'United States of America'}\n",
      "https://www.arrow.com/en/products/fms6141s5x/on-semiconductor\n",
      "{'Product Id': 'FMS6141S5X', 'In Stock': '9,912', 'Price': '$0.43', 'Ships From': 'United States of America'}\n",
      "https://www.arrow.com/en/products/fms6141csx/on-semiconductor\n",
      "{'Product Id': 'FMS6141CSX', 'In Stock': '390', 'Price': '$0.12', 'Ships From': 'United States of America'}\n",
      "https://www.arrow.com/en/products/fms6143csx/on-semiconductor\n",
      "{'Product Id': 'FMS6143CSX', 'In Stock': '3', 'Price': '$609.00', 'Ships From': 'Netherlands'}\n",
      "https://www.arrow.com/en/products/gs2962-ibe3/semtech\n",
      "{'Product Id': 'GS2962-IBE3', 'In Stock': '168', 'Price': '$29.30', 'Ships From': 'United States of America'}\n",
      "https://www.arrow.com/en/products/gs2971aibe3/semtech\n",
      "failure to process item, proceeding to the next\n",
      "https://www.arrow.com/en/products/zl38063ldg1/microchip-technology\n",
      "{'Product Id': 'ZL38063LDG1', 'In Stock': '664', 'Price': '$11.45', 'Ships From': 'United States of America'}\n",
      "https://www.arrow.com/en/products/lc823455xatbg/on-semiconductor\n",
      "{'Product Id': 'LC823455XATBG', 'In Stock': '1,000', 'Price': '$7.96', 'Ships From': 'United States of America'}\n",
      "https://www.arrow.com/en/products/tda7430/stmicroelectronics\n",
      "{'Product Id': 'TDA7430', 'In Stock': '910', 'Price': '$2.40', 'Ships From': 'United States of America'}\n",
      "https://www.arrow.com/en/products/njw1200v-te1/nisshinbo-micro-devices-inc\n",
      "{'Product Id': 'NJW1200V(TE1)', 'In Stock': '9', 'Price': '$1.90', 'Ships From': 'United States of America'}\n",
      "https://www.arrow.com/en/products/sta020djtr/stmicroelectronics\n",
      "{'Product Id': 'STA020DJTR', 'In Stock': '1,000', 'Price': '$3,565.00', 'Ships From': 'United States of America'}\n",
      "https://www.arrow.com/en/products/njw1173v-te1/nisshinbo-micro-devices-inc\n",
      "{'Product Id': 'NJW1173V(TE1)', 'In Stock': '9', 'Price': '$1.01', 'Ships From': 'United States of America'}\n",
      "https://www.arrow.com/en/products/ad1940ystz/analog-devices\n",
      "{'Product Id': 'AD1940YSTZ', 'In Stock': '72', 'Price': '$13.41', 'Ships From': 'United States of America'}\n",
      "https://www.arrow.com/en/products/tda7418tr/stmicroelectronics\n",
      "{'Product Id': 'TDA7418TR', 'In Stock': '40', 'Price': '$1.27', 'Ships From': 'United States of America'}\n",
      "https://www.arrow.com/en/products/tas3204pagr/texas-instruments\n",
      "{'Product Id': 'TAS3204PAGR', 'In Stock': '354', 'Price': '$7.42', 'Ships From': 'United States of America'}\n",
      "https://www.arrow.com/en/products/tas5508bpag/texas-instruments\n",
      "{'Product Id': 'TAS5508BPAG', 'In Stock': '160', 'Price': '$1,606.72', 'Ships From': 'United States of America'}\n",
      "https://www.arrow.com/en/products/sta333w13tr/stmicroelectronics\n",
      "{'Product Id': 'STA333W13TR', 'In Stock': '6,928', 'Price': '$1.70', 'Ships From': 'United States of America'}\n",
      "https://www.arrow.com/en/products/tas3103adbt/texas-instruments\n",
      "{'Product Id': 'TAS3103ADBT', 'In Stock': '950', 'Price': '$633.15', 'Ships From': 'United States of America'}\n",
      "https://www.arrow.com/en/products/zl38052ldg1/microchip-technology\n",
      "{'Product Id': 'ZL38052LDG1', 'In Stock': '1', 'Price': '$7.36', 'Ships From': 'United States of America'}\n",
      "https://www.arrow.com/en/products/njm2706ve1-te1/nisshinbo-micro-devices-inc\n",
      "{'Product Id': 'NJM2706VE1(TE1)', 'In Stock': '9', 'Price': '$1.31', 'Ships From': 'United States of America'}\n",
      "https://www.arrow.com/en/products/nju7391av-te1/nisshinbo-micro-devices-inc\n",
      "{'Product Id': 'NJU7391AV(TE1)', 'In Stock': '9', 'Price': '$0.98', 'Ships From': 'United States of America'}\n",
      "https://www.arrow.com/en/products/tda7303/stmicroelectronics\n",
      "{'Product Id': 'TDA7303', 'In Stock': '3', 'Price': '$1.56', 'Ships From': 'Netherlands'}\n"
     ]
    }
   ],
   "source": [
    "for f in links:\n",
    "    temp = {}\n",
    "    try:\n",
    "        time.sleep(1.6)\n",
    "        html = requests.get('https://www.arrow.com' + f,headers=header)\n",
    "        bsobj = soup(html.content, \"html.parser\")\n",
    "        print('https://www.arrow.com' + f)\n",
    "        h1 = bsobj.find('span', class_=\"product-summary-name--Original\")\n",
    "        temp['Product Id'] = h1.string\n",
    "        stock = bsobj.find('h2', class_=\"BuyingOptions-title BuyingOptions-title--underlined ng-star-inserted\")\n",
    "        num = ''\n",
    "        for i in stock.string.strip().split():\n",
    "            if i[0].isdigit():\n",
    "                num = i\n",
    "        temp['In Stock'] = num\n",
    "\n",
    "        price = bsobj.find('span',class_=\"BuyingOptions-total-price ng-star-inserted\")\n",
    "        temp['Price'] = price.string\n",
    "\n",
    "        ship_info = bsobj.find('dl', class_=\"BuyingOptions-labeledValues BuyingOptions-labeledValues--aligned BuyingOptions-labeledValues--indented u-tablet-up-showFlex\")\n",
    "        rating_count = ship_info.findAll('dd', class_=\"ng-star-inserted\")\n",
    "        temp['Ships From'] = rating_count[0].string.strip()\n",
    "        print(temp)\n",
    "        df = df.append(temp, ignore_index=True)\n",
    "    except:\n",
    "        print(\"failure to process item, proceeding to the next\")"
   ]
  },
  {
   "cell_type": "code",
   "execution_count": 26,
   "metadata": {},
   "outputs": [
    {
     "data": {
      "text/html": [
       "<div>\n",
       "<style scoped>\n",
       "    .dataframe tbody tr th:only-of-type {\n",
       "        vertical-align: middle;\n",
       "    }\n",
       "\n",
       "    .dataframe tbody tr th {\n",
       "        vertical-align: top;\n",
       "    }\n",
       "\n",
       "    .dataframe thead th {\n",
       "        text-align: right;\n",
       "    }\n",
       "</style>\n",
       "<table border=\"1\" class=\"dataframe\">\n",
       "  <thead>\n",
       "    <tr style=\"text-align: right;\">\n",
       "      <th></th>\n",
       "      <th>Product Id</th>\n",
       "      <th>In Stock</th>\n",
       "      <th>Price</th>\n",
       "      <th>Ships From</th>\n",
       "    </tr>\n",
       "  </thead>\n",
       "  <tbody>\n",
       "    <tr>\n",
       "      <th>0</th>\n",
       "      <td>OV00798-U96G-2C</td>\n",
       "      <td>502</td>\n",
       "      <td>$9.14</td>\n",
       "      <td>United States of America</td>\n",
       "    </tr>\n",
       "    <tr>\n",
       "      <th>1</th>\n",
       "      <td>FMS6141S5X</td>\n",
       "      <td>9,912</td>\n",
       "      <td>$0.43</td>\n",
       "      <td>United States of America</td>\n",
       "    </tr>\n",
       "    <tr>\n",
       "      <th>2</th>\n",
       "      <td>FMS6141CSX</td>\n",
       "      <td>390</td>\n",
       "      <td>$0.12</td>\n",
       "      <td>United States of America</td>\n",
       "    </tr>\n",
       "    <tr>\n",
       "      <th>3</th>\n",
       "      <td>FMS6143CSX</td>\n",
       "      <td>3</td>\n",
       "      <td>$609.00</td>\n",
       "      <td>Netherlands</td>\n",
       "    </tr>\n",
       "    <tr>\n",
       "      <th>4</th>\n",
       "      <td>GS2962-IBE3</td>\n",
       "      <td>168</td>\n",
       "      <td>$29.30</td>\n",
       "      <td>United States of America</td>\n",
       "    </tr>\n",
       "    <tr>\n",
       "      <th>5</th>\n",
       "      <td>ZL38063LDG1</td>\n",
       "      <td>664</td>\n",
       "      <td>$11.45</td>\n",
       "      <td>United States of America</td>\n",
       "    </tr>\n",
       "    <tr>\n",
       "      <th>6</th>\n",
       "      <td>LC823455XATBG</td>\n",
       "      <td>1,000</td>\n",
       "      <td>$7.96</td>\n",
       "      <td>United States of America</td>\n",
       "    </tr>\n",
       "    <tr>\n",
       "      <th>7</th>\n",
       "      <td>TDA7430</td>\n",
       "      <td>910</td>\n",
       "      <td>$2.40</td>\n",
       "      <td>United States of America</td>\n",
       "    </tr>\n",
       "    <tr>\n",
       "      <th>8</th>\n",
       "      <td>NJW1200V(TE1)</td>\n",
       "      <td>9</td>\n",
       "      <td>$1.90</td>\n",
       "      <td>United States of America</td>\n",
       "    </tr>\n",
       "    <tr>\n",
       "      <th>9</th>\n",
       "      <td>STA020DJTR</td>\n",
       "      <td>1,000</td>\n",
       "      <td>$3,565.00</td>\n",
       "      <td>United States of America</td>\n",
       "    </tr>\n",
       "    <tr>\n",
       "      <th>10</th>\n",
       "      <td>NJW1173V(TE1)</td>\n",
       "      <td>9</td>\n",
       "      <td>$1.01</td>\n",
       "      <td>United States of America</td>\n",
       "    </tr>\n",
       "    <tr>\n",
       "      <th>11</th>\n",
       "      <td>AD1940YSTZ</td>\n",
       "      <td>72</td>\n",
       "      <td>$13.41</td>\n",
       "      <td>United States of America</td>\n",
       "    </tr>\n",
       "    <tr>\n",
       "      <th>12</th>\n",
       "      <td>TDA7418TR</td>\n",
       "      <td>40</td>\n",
       "      <td>$1.27</td>\n",
       "      <td>United States of America</td>\n",
       "    </tr>\n",
       "    <tr>\n",
       "      <th>13</th>\n",
       "      <td>TAS3204PAGR</td>\n",
       "      <td>354</td>\n",
       "      <td>$7.42</td>\n",
       "      <td>United States of America</td>\n",
       "    </tr>\n",
       "    <tr>\n",
       "      <th>14</th>\n",
       "      <td>TAS5508BPAG</td>\n",
       "      <td>160</td>\n",
       "      <td>$1,606.72</td>\n",
       "      <td>United States of America</td>\n",
       "    </tr>\n",
       "    <tr>\n",
       "      <th>15</th>\n",
       "      <td>STA333W13TR</td>\n",
       "      <td>6,928</td>\n",
       "      <td>$1.70</td>\n",
       "      <td>United States of America</td>\n",
       "    </tr>\n",
       "    <tr>\n",
       "      <th>16</th>\n",
       "      <td>TAS3103ADBT</td>\n",
       "      <td>950</td>\n",
       "      <td>$633.15</td>\n",
       "      <td>United States of America</td>\n",
       "    </tr>\n",
       "    <tr>\n",
       "      <th>17</th>\n",
       "      <td>ZL38052LDG1</td>\n",
       "      <td>1</td>\n",
       "      <td>$7.36</td>\n",
       "      <td>United States of America</td>\n",
       "    </tr>\n",
       "    <tr>\n",
       "      <th>18</th>\n",
       "      <td>NJM2706VE1(TE1)</td>\n",
       "      <td>9</td>\n",
       "      <td>$1.31</td>\n",
       "      <td>United States of America</td>\n",
       "    </tr>\n",
       "    <tr>\n",
       "      <th>19</th>\n",
       "      <td>NJU7391AV(TE1)</td>\n",
       "      <td>9</td>\n",
       "      <td>$0.98</td>\n",
       "      <td>United States of America</td>\n",
       "    </tr>\n",
       "    <tr>\n",
       "      <th>20</th>\n",
       "      <td>TDA7303</td>\n",
       "      <td>3</td>\n",
       "      <td>$1.56</td>\n",
       "      <td>Netherlands</td>\n",
       "    </tr>\n",
       "  </tbody>\n",
       "</table>\n",
       "</div>"
      ],
      "text/plain": [
       "         Product Id In Stock      Price                Ships From\n",
       "0   OV00798-U96G-2C      502      $9.14  United States of America\n",
       "1        FMS6141S5X    9,912      $0.43  United States of America\n",
       "2        FMS6141CSX      390      $0.12  United States of America\n",
       "3        FMS6143CSX        3    $609.00               Netherlands\n",
       "4       GS2962-IBE3      168     $29.30  United States of America\n",
       "5       ZL38063LDG1      664     $11.45  United States of America\n",
       "6     LC823455XATBG    1,000      $7.96  United States of America\n",
       "7           TDA7430      910      $2.40  United States of America\n",
       "8     NJW1200V(TE1)        9      $1.90  United States of America\n",
       "9        STA020DJTR    1,000  $3,565.00  United States of America\n",
       "10    NJW1173V(TE1)        9      $1.01  United States of America\n",
       "11       AD1940YSTZ       72     $13.41  United States of America\n",
       "12        TDA7418TR       40      $1.27  United States of America\n",
       "13      TAS3204PAGR      354      $7.42  United States of America\n",
       "14      TAS5508BPAG      160  $1,606.72  United States of America\n",
       "15      STA333W13TR    6,928      $1.70  United States of America\n",
       "16      TAS3103ADBT      950    $633.15  United States of America\n",
       "17      ZL38052LDG1        1      $7.36  United States of America\n",
       "18  NJM2706VE1(TE1)        9      $1.31  United States of America\n",
       "19   NJU7391AV(TE1)        9      $0.98  United States of America\n",
       "20          TDA7303        3      $1.56               Netherlands"
      ]
     },
     "metadata": {},
     "output_type": "display_data"
    }
   ],
   "source": [
    "display(df)"
   ]
  }
 ],
 "metadata": {
  "kernelspec": {
   "display_name": "Python 3.8.5 ('base')",
   "language": "python",
   "name": "python3"
  },
  "language_info": {
   "codemirror_mode": {
    "name": "ipython",
    "version": 3
   },
   "file_extension": ".py",
   "mimetype": "text/x-python",
   "name": "python",
   "nbconvert_exporter": "python",
   "pygments_lexer": "ipython3",
   "version": "3.8.5"
  },
  "orig_nbformat": 4,
  "vscode": {
   "interpreter": {
    "hash": "3736618c75c9c9f30c52be798f07bc89545d6a6ff0cf35601cfdbc407dce5c1f"
   }
  }
 },
 "nbformat": 4,
 "nbformat_minor": 2
}
