{
 "cells": [
  {
   "cell_type": "code",
   "execution_count": null,
   "metadata": {},
   "outputs": [],
   "source": [
    "import requests\n",
    "from bs4 import BeautifulSoup as soup\n",
    "from requests_html import AsyncHTMLSession\n",
    "import pandas as pd"
   ]
  },
  {
   "cell_type": "code",
   "execution_count": null,
   "metadata": {},
   "outputs": [],
   "source": [
    "header = {'User-Agent':'Mozilla/5.0 (Windows NT 10.0; WOW64) AppleWebKit/537.36 (KHTML, like Gecko) Chrome/83.0.4103.61 Safari/537.36'}\n"
   ]
  },
  {
   "cell_type": "code",
   "execution_count": null,
   "metadata": {},
   "outputs": [],
   "source": [
    "html = requests.get('https://www.digikey.com/en/products/filter/embedded-microprocessors/694?s=N4IgTCBcDaIMYFMA2CBOB7AdiAugXyA',headers=header)\n"
   ]
  },
  {
   "cell_type": "code",
   "execution_count": null,
   "metadata": {},
   "outputs": [],
   "source": [
    "html.status_code\n"
   ]
  },
  {
   "cell_type": "code",
   "execution_count": null,
   "metadata": {},
   "outputs": [],
   "source": [
    "cookies = html.cookies"
   ]
  },
  {
   "cell_type": "code",
   "execution_count": null,
   "metadata": {},
   "outputs": [],
   "source": [
    "bsobj = soup(html.content, \"html.parser\")"
   ]
  },
  {
   "cell_type": "code",
   "execution_count": null,
   "metadata": {},
   "outputs": [],
   "source": [
    "next = bsobj.find(title='Next Page')\n",
    "next"
   ]
  },
  {
   "cell_type": "code",
   "execution_count": null,
   "metadata": {},
   "outputs": [],
   "source": [
    "productlist = bsobj.findAll('tr',{'class':'MuiTableRow-root'})\n",
    "productlist[2].text\n",
    "links = []\n",
    "for i in range(2,len(productlist)):\n",
    "    links.append(productlist[i].find_all('a')[1].get('href'))\n",
    "links"
   ]
  },
  {
   "cell_type": "code",
   "execution_count": null,
   "metadata": {},
   "outputs": [],
   "source": [
    "asession = AsyncHTMLSession()\n",
    "r = await asession.get('https://www.digikey.com')\n",
    "for f in links:\n",
    "    r = await asession.get('https://www.digikey.com' + f)\n",
    "    print('https://www.digikey.com' + f)"
   ]
  },
  {
   "cell_type": "code",
   "execution_count": null,
   "metadata": {},
   "outputs": [],
   "source": [
    "df = pd.DataFrame(columns=['Product Id','In Stock','Rating','Shipping Time','Shipping Location'])"
   ]
  },
  {
   "cell_type": "code",
   "execution_count": null,
   "metadata": {},
   "outputs": [],
   "source": [
    "for f in links:\n",
    "    \n",
    "    \n",
    "    temp = {}\n",
    "    r = await asession.get('https://www.mouser.com' + f)\n",
    "    await r.html.arender()\n",
    "    if r.html.find('div[ref_page_event=\"Link to Supplier Shipper\"]'):\n",
    "        h1 = r.html.find('tbody.MuiTableBody-root')\n",
    "        temp['Product Id'] = h1[0].text.split('\\n')[1]\n",
    "        stock = r.html.find('div[data-testid = price-and-procure-title]')\n",
    "        temp['In Stock'] = stock[0].text\n",
    "\n",
    "\n",
    "        if (stock[0].text[0] != '0'):\n",
    "            rating_count = r.html.find('div[ref_page_event=\"Link to Supplier Shipper\"]')\n",
    "            shipping = rating_count[0].text.replace('Will ship in approximately ','').split('from')\n",
    "            temp['Shipping Time'] = shipping[0].strip()\n",
    "            temp['Shipping Location'] = shipping[1].strip()\n",
    "        else:\n",
    "            temp['Shipping Time'] = 'err: no items in stock'\n",
    "            temp['Shipping Location'] = 'err: no items in stock'\n",
    "        print(temp)\n",
    "        df = df.append(temp, ignore_index=True)\n"
   ]
  },
  {
   "cell_type": "code",
   "execution_count": null,
   "metadata": {},
   "outputs": [],
   "source": [
    "display(df)"
   ]
  }
 ],
 "metadata": {
  "kernelspec": {
   "display_name": "Python 3.8.10 64-bit (windows store)",
   "language": "python",
   "name": "python3"
  },
  "language_info": {
   "name": "python",
   "version": "3.8.10"
  },
  "orig_nbformat": 4,
  "vscode": {
   "interpreter": {
    "hash": "364150e6ba4d52d801187a826d7136e24ea91f6091e2552719867136e2736938"
   }
  }
 },
 "nbformat": 4,
 "nbformat_minor": 2
}
